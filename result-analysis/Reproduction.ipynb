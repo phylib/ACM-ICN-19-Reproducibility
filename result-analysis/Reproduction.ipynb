{
 "cells": [
  {
   "cell_type": "code",
   "execution_count": null,
   "metadata": {},
   "outputs": [],
   "source": [
    "import glob\n",
    "import pandas as pd\n",
    "import numpy as np"
   ]
  },
  {
   "cell_type": "markdown",
   "metadata": {},
   "source": [
    "# Execution of Emulations"
   ]
  },
  {
   "cell_type": "code",
   "execution_count": null,
   "metadata": {},
   "outputs": [],
   "source": [
    "print(\"Todo\")\n"
   ]
  },
  {
   "cell_type": "markdown",
   "metadata": {},
   "source": [
    "# Preparation of Results\n",
    "\n",
    "In order to get to the results, basically two options exist. The first option is to generate own results by executing the emulations as described above. The second way is to download the original paper results via FTP.\n",
    "\n",
    "In the case that the results were reproduced, place the results in the `results` folder of the repository.\n",
    "\n",
    "In order to download the results, execute command below:\n",
    "\n",
    "__Attention__: About 40GB of disk space are required."
   ]
  },
  {
   "cell_type": "code",
   "execution_count": null,
   "metadata": {},
   "outputs": [],
   "source": [
    "!../results/download.sh"
   ]
  },
  {
   "cell_type": "markdown",
   "metadata": {},
   "source": [
    "# Analysis of results\n",
    "\n",
    "The first step at result analysis is to parse the Wireshark packets and write statistics to handy CSV files. This is done by executing a python script.\n",
    "\n",
    "__Attention:__ The Python script uses all available CPU cores and could need up to an our to finish calculation."
   ]
  },
  {
   "cell_type": "code",
   "execution_count": null,
   "metadata": {},
   "outputs": [],
   "source": [
    "!mkdir -p $ANALYSIS_HOME/results/averages\n",
    "!python3 parsePCAP.py -i $ANALYSIS_HOME/results/final-results -o $ANALYSIS_HOME/results/averages"
   ]
  },
  {
   "cell_type": "markdown",
   "metadata": {},
   "source": [
    "# Plotting of charts\n",
    "\n",
    "Once the averages are calculated and available, only the charts need to be plotted. Therefore, use the following command:"
   ]
  },
  {
   "cell_type": "code",
   "execution_count": null,
   "metadata": {},
   "outputs": [],
   "source": [
    "!python3 plotPcapResults.py -i $ANALYSIS_HOME/results/averages -o ./ -s 2x1,3x1,2x2"
   ]
  },
  {
   "cell_type": "markdown",
   "metadata": {},
   "source": [
    "The resulting charts can be found in the `result-analysis` folder."
   ]
  },
  {
   "cell_type": "markdown",
   "metadata": {},
   "source": [
    "# Calculation of overhead\n",
    "\n",
    "To quatify the percentage of overhead, the following script can be used."
   ]
  },
  {
   "cell_type": "code",
   "execution_count": null,
   "metadata": {},
   "outputs": [],
   "source": [
    "files = glob.glob(\"../results/averages/*.csv\")\n",
    "\n",
    "averages = []\n",
    "for file in files:\n",
    "    scenario = file.split(\"/\")[-1].split(\".\")[0]\n",
    "    df = pd.read_csv(file, delimiter=\"\\t\")\n",
    "    incoming = df[df[\"in/out\"] == \"in\"]\n",
    "    outgoing = df[df[\"in/out\"] == \"out\"]\n",
    "\n",
    "    sum = np.sum(incoming)\n",
    "    approach = scenario.split(\"_\")[4]\n",
    "    size = scenario.split(\"_\")[3]\n",
    "    clients = scenario.split(\"_\")[1]\n",
    "    averages.append([ approach, size, int(clients), sum[\"bytesInterests\"], sum[\"bytesData\"], sum[\"bytesSyncPayload\"]])\n",
    "    \n",
    "averages = pd.DataFrame(averages, columns=[\"approach\", \"size\", \"#clients\", \"bytesInterests\", \"bytesData\", \"bytesSyncPayload\"])\n",
    "averages[\"bytesTotal\"] = averages[\"bytesInterests\"] + averages[\"bytesData\"]\n",
    "averages[\"percentPayload\"] = averages[\"bytesSyncPayload\"] / averages[\"bytesTotal\"]\n",
    " \n",
    "averages.sort_values(by=[\"approach\", \"size\", \"#clients\"])"
   ]
  },
  {
   "cell_type": "markdown",
   "metadata": {},
   "source": [
    "# Plotting player movements\n",
    "\n",
    "One chart in the paper visualized the player movement from the Fortnite Traces [1]. To print this chart, use the following commands.\n",
    "\n",
    "The resulting figures can be found in the `result-analysis`-folder.\n",
    "\n",
    "[1] P. Moll, M. Lux, S. Theuermann, & H. Hellwagner. (2018). A Network Traffic and Player Movement Model to Improve Networking for Competitive Online Games. Proceedings of the 15th Annual Workshop on Network and Systems Support for Games. DOI: 10.1109/NetGames.2018.8463390\n"
   ]
  },
  {
   "cell_type": "code",
   "execution_count": null,
   "metadata": {},
   "outputs": [],
   "source": [
    "!git clone https://github.com/phylib/FortniteTraces FortniteTraces\n",
    "!python3 plotPlayerMovement.py -i FortniteTraces/GeneratedTraces/g0/ -o ./ -z 1x1,2x1,3x1,2x2"
   ]
  }
 ],
 "metadata": {
  "kernelspec": {
   "display_name": "Python 3",
   "language": "python",
   "name": "python3"
  },
  "language_info": {
   "codemirror_mode": {
    "name": "ipython",
    "version": 3
   },
   "file_extension": ".py",
   "mimetype": "text/x-python",
   "name": "python",
   "nbconvert_exporter": "python",
   "pygments_lexer": "ipython3",
   "version": "3.6.8"
  }
 },
 "nbformat": 4,
 "nbformat_minor": 2
}
